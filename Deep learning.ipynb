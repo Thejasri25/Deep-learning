{
 "cells": [
  {
   "cell_type": "code",
   "execution_count": 14,
   "id": "600d9640",
   "metadata": {},
   "outputs": [
    {
     "name": "stderr",
     "output_type": "stream",
     "text": [
      "<>:7: SyntaxWarning: 'tuple' object is not callable; perhaps you missed a comma?\n",
      "<>:7: SyntaxWarning: 'tuple' object is not callable; perhaps you missed a comma?\n"
     ]
    },
    {
     "name": "stdout",
     "output_type": "stream",
     "text": [
      "Enter weight 1: 2\n",
      "Enter weight 2: 3\n",
      "[[0, 0], [0, 1], [1, 0], [1, 1]]\n"
     ]
    },
    {
     "name": "stderr",
     "output_type": "stream",
     "text": [
      "C:\\Users\\91960\\AppData\\Local\\Temp\\ipykernel_4792\\3249692102.py:7: SyntaxWarning: 'tuple' object is not callable; perhaps you missed a comma?\n",
      "  orgate=[(x,y) (x or y) for r in coord]\n",
      "C:\\Users\\91960\\AppData\\Local\\Temp\\ipykernel_4792\\3249692102.py:7: SyntaxWarning: 'tuple' object is not callable; perhaps you missed a comma?\n",
      "  orgate=[(x,y) (x or y) for r in coord]\n",
      "C:\\Users\\91960\\AppData\\Local\\Temp\\ipykernel_4792\\3249692102.py:7: SyntaxWarning: 'tuple' object is not callable; perhaps you missed a comma?\n",
      "  orgate=[(x,y) (x or y) for r in coord]\n",
      "C:\\Users\\91960\\AppData\\Local\\Temp\\ipykernel_4792\\3249692102.py:7: SyntaxWarning: 'tuple' object is not callable; perhaps you missed a comma?\n",
      "  orgate=[(x,y) (x or y) for r in coord]\n"
     ]
    },
    {
     "ename": "NameError",
     "evalue": "name 'x' is not defined",
     "output_type": "error",
     "traceback": [
      "\u001b[1;31m---------------------------------------------------------------------------\u001b[0m",
      "\u001b[1;31mNameError\u001b[0m                                 Traceback (most recent call last)",
      "Input \u001b[1;32mIn [14]\u001b[0m, in \u001b[0;36m<cell line: 7>\u001b[1;34m()\u001b[0m\n\u001b[0;32m      5\u001b[0m coord\u001b[38;5;241m=\u001b[39m[[x,y] \u001b[38;5;28;01mfor\u001b[39;00m x \u001b[38;5;129;01min\u001b[39;00m \u001b[38;5;28mrange\u001b[39m(\u001b[38;5;241m2\u001b[39m) \u001b[38;5;28;01mfor\u001b[39;00m y \u001b[38;5;129;01min\u001b[39;00m \u001b[38;5;28mrange\u001b[39m(\u001b[38;5;241m2\u001b[39m)]\n\u001b[0;32m      6\u001b[0m \u001b[38;5;28mprint\u001b[39m(coord)\n\u001b[1;32m----> 7\u001b[0m orgate\u001b[38;5;241m=\u001b[39m[(x,y) (x \u001b[38;5;129;01mor\u001b[39;00m y) \u001b[38;5;28;01mfor\u001b[39;00m r \u001b[38;5;129;01min\u001b[39;00m coord] \n\u001b[0;32m      9\u001b[0m eff\u001b[38;5;241m=\u001b[39m\u001b[38;5;241m0\u001b[39m\n\u001b[0;32m     10\u001b[0m i\u001b[38;5;241m=\u001b[39m\u001b[38;5;241m0\u001b[39m\n",
      "Input \u001b[1;32mIn [14]\u001b[0m, in \u001b[0;36m<listcomp>\u001b[1;34m(.0)\u001b[0m\n\u001b[0;32m      5\u001b[0m coord\u001b[38;5;241m=\u001b[39m[[x,y] \u001b[38;5;28;01mfor\u001b[39;00m x \u001b[38;5;129;01min\u001b[39;00m \u001b[38;5;28mrange\u001b[39m(\u001b[38;5;241m2\u001b[39m) \u001b[38;5;28;01mfor\u001b[39;00m y \u001b[38;5;129;01min\u001b[39;00m \u001b[38;5;28mrange\u001b[39m(\u001b[38;5;241m2\u001b[39m)]\n\u001b[0;32m      6\u001b[0m \u001b[38;5;28mprint\u001b[39m(coord)\n\u001b[1;32m----> 7\u001b[0m orgate\u001b[38;5;241m=\u001b[39m[(\u001b[43mx\u001b[49m,y) (x \u001b[38;5;129;01mor\u001b[39;00m y) \u001b[38;5;28;01mfor\u001b[39;00m r \u001b[38;5;129;01min\u001b[39;00m coord] \n\u001b[0;32m      9\u001b[0m eff\u001b[38;5;241m=\u001b[39m\u001b[38;5;241m0\u001b[39m\n\u001b[0;32m     10\u001b[0m i\u001b[38;5;241m=\u001b[39m\u001b[38;5;241m0\u001b[39m\n",
      "\u001b[1;31mNameError\u001b[0m: name 'x' is not defined"
     ]
    }
   ],
   "source": [
    "#trial and error\n",
    "import numpy as np\n",
    "w1=int(input(\"Enter weight 1: \"))\n",
    "w2=int(input(\"Enter weight 2: \"))\n",
    "w=[w1,w2]\n",
    "coord=[[x,y] for x in range(2) for y in range(2)]\n",
    "print(coord)\n",
    "orgate=[(x,y) (x or y) for r in coord] \n",
    "\n",
    "eff=0\n",
    "i=0\n",
    "for r in coord:\n",
    "    z=np.dot(r,w)\n",
    "    if z>0:\n",
    "        out=1\n",
    "    else:\n",
    "        out=0\n",
    "    if out==orgate[i]:\n",
    "        eff=eff+1\n",
    "    i=i+1\n",
    "per=(eff/4)*100\n",
    "print(\"Efficiency:\",per,\"%\")"
   ]
  },
  {
   "cell_type": "code",
   "execution_count": null,
   "id": "4ea232f4",
   "metadata": {},
   "outputs": [],
   "source": [
    "#answer\n",
    "import numpy as np\n",
    "w1=int(input(\"Enter weight 1: \"))\n",
    "w2=int(input(\"Enter weight 2: \"))\n",
    "w=[w1,w2]\n",
    "coord=[(x,y) for x in range(2) for y in range(2)]\n",
    "print(coord)\n",
    "orgate=[0,1,1,1]\n",
    "\n",
    "eff=0\n",
    "i=0\n",
    "for r in coord:\n",
    "    z=np.dot(r,w)\n",
    "    if z>0:\n",
    "        out=1\n",
    "    else:\n",
    "        out=0\n",
    "    if out==orgate[i]:\n",
    "        eff=eff+1\n",
    "    i=i+1\n",
    "per=(eff/4)*100\n",
    "print(\"Efficiency:\",per,\"%\")"
   ]
  },
  {
   "cell_type": "code",
   "execution_count": null,
   "id": "daa99aa5",
   "metadata": {},
   "outputs": [],
   "source": [
    "\n",
    "import numpy as np\n",
    "w1=int(input(\"Enter weight 1: \"))\n",
    "w2=int(input(\"Enter weight 2: \"))\n",
    "bias=int(input(\"Enter bias: \"))\n",
    "w=[w1,w2]\n",
    "coord=[(x,y) for x in range(2) for y in range(2)]\n",
    "print(coord)\n",
    "andgate=[0,0,0,1]\n",
    "\n",
    "eff=0\n",
    "i=0\n",
    "for r in coord:\n",
    "    z=(np.dot(r,w)+bias)\n",
    "    if z>0:\n",
    "        out=1\n",
    "    else:\n",
    "        out=0\n",
    "    if out==andgate[i]:\n",
    "        eff=eff+1\n",
    "    i=i+1\n",
    "per=(eff/4)*100\n",
    "print(\"Efficiency:\",per,\"%\")"
   ]
  },
  {
   "cell_type": "code",
   "execution_count": null,
   "id": "fb22e147",
   "metadata": {},
   "outputs": [],
   "source": [
    "\n",
    "import numpy as np\n",
    "w1=int(input(\"Enter weight 1: \"))\n",
    "w2=int(input(\"Enter weight 2: \"))\n",
    "bias=int(input(\"Enter bias: \"))\n",
    "w=[w1,w2]\n",
    "coord=[(x,y) for x in range(2) for y in range(2)]\n",
    "print(coord)\n",
    "andgate=[0,0,0,1]\n",
    "\n",
    "eff=0\n",
    "i=0\n",
    "for r in coord:\n",
    "    z=(np.dot(r,w)+bias)\n",
    "    if z>0:\n",
    "        out=1\n",
    "    else:\n",
    "        out=0\n",
    "    if out==andgate[i]:\n",
    "        eff=eff+1\n",
    "    i=i+1\n",
    "per=(eff/4)*100\n",
    "print(\"Efficiency:\",per,\"%\")"
   ]
  },
  {
   "cell_type": "code",
   "execution_count": null,
   "id": "02e05a2c",
   "metadata": {},
   "outputs": [],
   "source": [
    "\n",
    "import numpy as np\n",
    "w1=int(input(\"Enter weight 1: \"))\n",
    "w2=int(input(\"Enter weight 2: \"))\n",
    "bias=int(input(\"Enter bias: \"))\n",
    "w=[w1,w2]\n",
    "coord=[(x,y) for x in range(2) for y in range(2)]\n",
    "print(coord)\n",
    "andgate=[0,0,0,1]\n",
    "\n",
    "eff=0\n",
    "i=0\n",
    "for r in coord:\n",
    "    z=(np.dot(r,w)+bias)\n",
    "    if z>0:\n",
    "        out=1\n",
    "    else:\n",
    "        out=0\n",
    "    if out==andgate[i]:\n",
    "        eff=eff+1\n",
    "    i=i+1\n",
    "per=(eff/4)*100\n",
    "print(\"Efficiency:\",per,\"%\")"
   ]
  },
  {
   "cell_type": "code",
   "execution_count": 16,
   "id": "dbc46ee1",
   "metadata": {},
   "outputs": [
    {
     "name": "stdout",
     "output_type": "stream",
     "text": [
      "Enter weight 1: -5\n",
      "Enter weight 2: -4\n",
      "Enter bias: 1\n",
      "[(0, 0), (0, 1), (1, 0), (1, 1)]\n",
      "Efficiency: 100.0 %\n"
     ]
    }
   ],
   "source": [
    "\n",
    "import numpy as np\n",
    "w1=int(input(\"Enter weight 1: \"))\n",
    "w2=int(input(\"Enter weight 2: \"))\n",
    "bias=int(input(\"Enter bias: \"))\n",
    "w=[w1,w2]\n",
    "coord=[(x,y) for x in range(2) for y in range(2)]\n",
    "print(coord)\n",
    "norgate=[1,0,0,0]\n",
    "\n",
    "eff=0\n",
    "i=0\n",
    "for r in coord:\n",
    "    z=(np.dot(r,w)+bias)\n",
    "    if z>0:\n",
    "        out=1\n",
    "    else:\n",
    "        out=0\n",
    "    if out==norgate[i]:\n",
    "        eff=eff+1\n",
    "    i=i+1\n",
    "per=(eff/4)*100\n",
    "print(\"Efficiency:\",per,\"%\")"
   ]
  },
  {
   "cell_type": "code",
   "execution_count": 36,
   "id": "426d11d9",
   "metadata": {},
   "outputs": [
    {
     "name": "stdout",
     "output_type": "stream",
     "text": [
      "Enter weight 1: -4\n",
      "Enter weight 2: -3\n",
      "Enter bias: 6\n",
      "[(0, 0), (0, 1), (1, 0), (1, 1)]\n",
      "Efficiency: 100.0 %\n"
     ]
    }
   ],
   "source": [
    "#NAND Gate\n",
    "import numpy as np\n",
    "w1=int(input(\"Enter weight 1: \"))\n",
    "w2=int(input(\"Enter weight 2: \"))\n",
    "bias=int(input(\"Enter bias: \"))\n",
    "w=[w1,w2]\n",
    "coord=[(x,y) for x in range(2) for y in range(2)]\n",
    "print(coord)\n",
    "nandgate=[1,1,1,0]\n",
    "\n",
    "eff=0\n",
    "i=0\n",
    "for r in coord:\n",
    "    z=(np.dot(r,w)+bias)\n",
    "    if z>0:\n",
    "        out=1\n",
    "    else:\n",
    "        out=0\n",
    "    if out==nandgate[i]:\n",
    "        eff=eff+1\n",
    "    i=i+1\n",
    "per=(eff/4)*100\n",
    "print(\"Efficiency:\",per,\"%\")"
   ]
  },
  {
   "cell_type": "code",
   "execution_count": 37,
   "id": "fb943031",
   "metadata": {},
   "outputs": [
    {
     "name": "stdout",
     "output_type": "stream",
     "text": [
      "enter weight 1 value:2\n",
      "enter weight 2 value:3\n",
      "[(0, 0), (0, 1), (1, 0), (1, 1)]\n",
      "[1, 0, 0, 0]\n",
      "Efficiency: 0.0 %\n"
     ]
    }
   ],
   "source": []
  },
  {
   "cell_type": "code",
   "execution_count": 5,
   "id": "65232f3d",
   "metadata": {},
   "outputs": [
    {
     "name": "stdout",
     "output_type": "stream",
     "text": [
      "Enter Bias:2\n",
      "enter no. of elements:2\n",
      "1\n",
      "2\n",
      "3\n",
      "4\n",
      "5\n",
      "6\n",
      "[[1, 2, 3], [4, 5, 6]]\n"
     ]
    },
    {
     "ename": "TypeError",
     "evalue": "list indices must be integers or slices, not list",
     "output_type": "error",
     "traceback": [
      "\u001b[1;31m---------------------------------------------------------------------------\u001b[0m",
      "\u001b[1;31mTypeError\u001b[0m                                 Traceback (most recent call last)",
      "Input \u001b[1;32mIn [5]\u001b[0m, in \u001b[0;36m<cell line: 11>\u001b[1;34m()\u001b[0m\n\u001b[0;32m     11\u001b[0m \u001b[38;5;28;01mfor\u001b[39;00m i \u001b[38;5;129;01min\u001b[39;00m l:\n\u001b[0;32m     12\u001b[0m     x\u001b[38;5;241m=\u001b[39mnp\u001b[38;5;241m.\u001b[39mdot(i,w)\n\u001b[1;32m---> 13\u001b[0m     \u001b[38;5;28;01mif\u001b[39;00m \u001b[38;5;28mint\u001b[39m(x)\u001b[38;5;241m*\u001b[39m\u001b[38;5;28mint\u001b[39m(\u001b[43mw\u001b[49m\u001b[43m[\u001b[49m\u001b[43mi\u001b[49m\u001b[43m]\u001b[49m)\u001b[38;5;241m<\u001b[39m\u001b[38;5;241m=\u001b[39m\u001b[38;5;241m0\u001b[39m:\n\u001b[0;32m     14\u001b[0m         w\u001b[38;5;241m=\u001b[39mw\u001b[38;5;241m+\u001b[39mnp\u001b[38;5;241m.\u001b[39mdot(w,(\u001b[38;5;28mint\u001b[39m(w[i])\u001b[38;5;241m*\u001b[39mi))\n\u001b[0;32m     15\u001b[0m         m\u001b[38;5;241m+\u001b[39m\u001b[38;5;241m=\u001b[39m\u001b[38;5;241m1\u001b[39m\n",
      "\u001b[1;31mTypeError\u001b[0m: list indices must be integers or slices, not list"
     ]
    }
   ],
   "source": [
    "import numpy as np\n",
    "bias=int(input(\"Enter Bias:\"))\n",
    "w=[0,0,bias]\n",
    "exout=[1,-1,1]\n",
    "n=int(input(\"enter no. of elements:\"))\n",
    "l=[]\n",
    "m=0\n",
    "def checkmis(l,co):\n",
    "    for i in l:\n",
    "        if l[i]==co[i]:\n",
    "            m+=1\n",
    "\n",
    "for i in range(0,n):\n",
    "    ele=[int(input()),int(input()),int(input())]\n",
    "    l.append(ele)\n",
    "print(l)\n",
    "for i in l:\n",
    "    x=np.dot(i,w)\n",
    "    if int(x)*int(w[i])<=0:\n",
    "        w=w+np.dot(w,(int(w[i])*i))\n",
    "        m+=1\n",
    "    \n",
    "    \n",
    "     \n",
    "        "
   ]
  },
  {
   "cell_type": "code",
   "execution_count": 1,
   "id": "61d6a60a",
   "metadata": {},
   "outputs": [
    {
     "name": "stdout",
     "output_type": "stream",
     "text": [
      "1\n",
      "[1, 1, 1]\n"
     ]
    },
    {
     "ename": "TypeError",
     "evalue": "'NoneType' object is not subscriptable",
     "output_type": "error",
     "traceback": [
      "\u001b[1;31m---------------------------------------------------------------------------\u001b[0m",
      "\u001b[1;31mTypeError\u001b[0m                                 Traceback (most recent call last)",
      "Input \u001b[1;32mIn [1]\u001b[0m, in \u001b[0;36m<cell line: 29>\u001b[1;34m()\u001b[0m\n\u001b[0;32m     27\u001b[0m \u001b[38;5;28mprint\u001b[39m(m)\n\u001b[0;32m     29\u001b[0m \u001b[38;5;28;01mwhile\u001b[39;00m(m\u001b[38;5;241m>\u001b[39m\u001b[38;5;241m0\u001b[39m):\n\u001b[1;32m---> 30\u001b[0m     \u001b[38;5;28;01mif\u001b[39;00m \u001b[43mcheckmis\u001b[49m\u001b[43m(\u001b[49m\u001b[43mcheckweight\u001b[49m\u001b[43m(\u001b[49m\u001b[43mx\u001b[49m\u001b[43m,\u001b[49m\u001b[43mw\u001b[49m\u001b[43m)\u001b[49m\u001b[43m,\u001b[49m\u001b[43mout\u001b[49m\u001b[43m,\u001b[49m\u001b[43mm\u001b[49m\u001b[43m)\u001b[49m\u001b[38;5;241m<\u001b[39m\u001b[38;5;241m0\u001b[39m:\n\u001b[0;32m     31\u001b[0m         \u001b[38;5;28;01mbreak\u001b[39;00m\n",
      "Input \u001b[1;32mIn [1]\u001b[0m, in \u001b[0;36mcheckmis\u001b[1;34m(l, eo, m)\u001b[0m\n\u001b[0;32m     10\u001b[0m \u001b[38;5;28;01mdef\u001b[39;00m \u001b[38;5;21mcheckmis\u001b[39m(l,eo,m):\n\u001b[1;32m---> 11\u001b[0m     \u001b[38;5;28;01mif\u001b[39;00m \u001b[43ml\u001b[49m\u001b[43m[\u001b[49m\u001b[43mi\u001b[49m\u001b[43m]\u001b[49m\u001b[38;5;241m!=\u001b[39meo[i]:\n\u001b[0;32m     12\u001b[0m         m\u001b[38;5;241m+\u001b[39m\u001b[38;5;241m=\u001b[39m\u001b[38;5;241m1\u001b[39m\n\u001b[0;32m     13\u001b[0m     \u001b[38;5;28;01mreturn\u001b[39;00m m\n",
      "\u001b[1;31mTypeError\u001b[0m: 'NoneType' object is not subscriptable"
     ]
    }
   ],
   "source": [
    "import numpy as np\n",
    "x=[[2,1,1],[-1,4,1],[3,2,1]]\n",
    "x=np.array(x)\n",
    "w=[0,0,1]\n",
    "w=np.array(w)\n",
    "out=[1,-1,1]\n",
    "\n",
    "m=0\n",
    "\n",
    "def checkmis(l,eo,m):\n",
    "    if l[i]!=eo[i]:\n",
    "        m+=1\n",
    "    return m\n",
    "\n",
    "def checkweight(x,w):\n",
    "    l=[]\n",
    "    for i in range(len(x)):\n",
    "        y=np.dot(x[i],w)\n",
    "        l.append(y)\n",
    "    return l\n",
    "    #print(l)   \n",
    "for i in range(len(x)):\n",
    "    y=np.dot(x[i],w)\n",
    "    if y!= out[i]:\n",
    "        m+=1\n",
    "\n",
    "print(m)\n",
    "\n",
    "while(m>0):\n",
    "    if checkmis(checkweight(x,w),out,m)<0:\n",
    "        w=w+()\n",
    "        \n",
    "    \n",
    "    \n",
    "    "
   ]
  },
  {
   "cell_type": "code",
   "execution_count": 4,
   "id": "013986db",
   "metadata": {},
   "outputs": [
    {
     "name": "stdout",
     "output_type": "stream",
     "text": [
      "Max epochs reached. The algorithm did not converge.\n",
      "Weights: [0.5 7. ]\n"
     ]
    }
   ],
   "source": [
    "import numpy as np\n",
    "\n",
    "# Given data points as a numpy array\n",
    "data_points = np.array([[3, 1, 1], [1, 0, -1], [1.5, 0, -1], [4, 1, 1], [-2, 0, -1], [6, 1, 1]])\n",
    "\n",
    "# Initialize weights to zeros (excluding the bias term)\n",
    "weights = np.zeros(data_points.shape[1] - 1)\n",
    "\n",
    "learning_rate = 1\n",
    "max_epochs = 1000\n",
    "\n",
    "for epoch in range(max_epochs):\n",
    "    misclassified = False\n",
    "    \n",
    "    for point in data_points:\n",
    "        xi = point[:-1]  # Extract the coordinates\n",
    "        yi = point[-1]   # Extract the label\n",
    "\n",
    "        if yi * np.dot(weights, xi) <= 0:\n",
    "            weights += learning_rate * yi * xi\n",
    "            misclassified = True\n",
    "            \n",
    "    if not misclassified:\n",
    "        print(\"Converged in\", epoch + 1, \"epochs.\")\n",
    "        break\n",
    "\n",
    "if misclassified:\n",
    "    print(\"Max epochs reached. The algorithm did not converge.\")\n",
    "\n",
    "print(\"Weights:\", weights)\n"
   ]
  },
  {
   "cell_type": "code",
   "execution_count": 8,
   "id": "e967321e",
   "metadata": {},
   "outputs": [
    {
     "name": "stdout",
     "output_type": "stream",
     "text": [
      "Enter weight 1: -2\n",
      "Enter weight 2: -3\n",
      "Enter bias: 4\n",
      "[(0, 0), (0, 1), (1, 0), (1, 1)]\n",
      "Efficiency: 100.0 %\n"
     ]
    }
   ],
   "source": [
    "\n",
    "import numpy as np\n",
    "w1=int(input(\"Enter weight 1: \"))\n",
    "w2=int(input(\"Enter weight 2: \"))\n",
    "bias=int(input(\"Enter bias: \"))\n",
    "w=[w1,w2]\n",
    "coord=[(x,y) for x in range(2) for y in range(2)]\n",
    "print(coord)\n",
    "nandgate=[1,1,1,0]\n",
    "\n",
    "eff=0\n",
    "i=0\n",
    "for r in coord:\n",
    "    z=(np.dot(r,w)+bias)\n",
    "    if z>0:\n",
    "        out=1\n",
    "    else:\n",
    "        out=0\n",
    "    if out==nandgate[i]:\n",
    "        eff=eff+1\n",
    "    i=i+1\n",
    "per=(eff/4)*100\n",
    "print(\"Efficiency:\",per,\"%\")"
   ]
  },
  {
   "cell_type": "code",
   "execution_count": 31,
   "id": "bf634aed",
   "metadata": {},
   "outputs": [
    {
     "name": "stdout",
     "output_type": "stream",
     "text": [
      "[1, 1, 1, 1, 1, 1]\n",
      "1\n",
      "[-1, -1, -1, -1, 1, -1]\n",
      "0\n",
      "[1, 1, 1, 1, -1, 1]\n",
      "1\n",
      "[1, 1, 1, 1, -1, 1]\n",
      "1\n",
      "[-1, -1, -1, -1, -1, -1]\n",
      "0\n",
      "[1, 1, 1, 1, -1, 1]\n",
      "1\n",
      "[1, 1, 1, 1, -1, 1]\n",
      "1\n",
      "[1, -1, -1, 1, -1, 1]\n",
      "Total Iterations :  8\n",
      "final Weight is :  [ 0.  2. -3.]\n"
     ]
    }
   ],
   "source": [
    "\n",
    "import numpy as np\n",
    "\n",
    "x1 = np.array([3, 1])\n",
    "x2 = np.array([1, 0])\n",
    "x3 = np.array([1.5, 0])\n",
    "x4 = np.array([4, 1])\n",
    "x5 = np.array([-2, 0])\n",
    "x6 = np.array([6, 1])\n",
    "\n",
    "x = np.array([x1, x2, x3, x4, x5, x6])\n",
    "wt = [0, 0, 1]\n",
    "eo = [1, -1, -1, 1, -1, 1]\n",
    "co = []\n",
    "c = [0,0,0,0,0,0]\n",
    "a = 0\n",
    "n = -1\n",
    "m = 0\n",
    "\n",
    "#pre-processing array\n",
    "x1 = np.append(x1, 1)\n",
    "x2 = np.append(x2, 1)\n",
    "x3 = np.append(x3, 1)\n",
    "x4 = np.append(x4, 1)\n",
    "x5 = np.append(x5, 1)\n",
    "x6 = np.append(x6, 1)\n",
    "x = np.array([x1, x2, x3, x4, x5, x6])\n",
    "\n",
    "#while loop\n",
    "while(n < 0):\n",
    "    if (co == eo):\n",
    "        n = 1\n",
    "    for i in range(len(eo)):\n",
    "        c[i] = np.dot(x[i], wt)\n",
    "        #print(c[i])\n",
    "        if (c[i] > 0):\n",
    "            co.append(1)\n",
    "        else:\n",
    "            co.append(-1)\n",
    "    print(co)\n",
    "    if (co == eo):\n",
    "        n = 1\n",
    "    else:\n",
    "        for i in range(6):\n",
    "            if eo[i] != co[i]:\n",
    "                print(i)\n",
    "                a = i\n",
    "                break\n",
    "    wt = wt + (eo[a] * x[a])\n",
    "    co = []\n",
    "    m = m + 1\n",
    "\n",
    "print(\"Total Iterations : \", m)   \n",
    "print(\"final Weight is : \", wt)\n"
   ]
  },
  {
   "cell_type": "code",
   "execution_count": 34,
   "id": "4ba8fccd",
   "metadata": {},
   "outputs": [
    {
     "name": "stdout",
     "output_type": "stream",
     "text": [
      "[1 1 1 1 1 1]\n",
      "1\n",
      "[-1 -1 -1 -1  1 -1]\n",
      "0\n",
      "[ 1  1  1  1 -1  1]\n",
      "1\n",
      "[ 1  1  1  1 -1  1]\n",
      "1\n",
      "[-1 -1 -1 -1 -1 -1]\n",
      "0\n",
      "[ 1  1  1  1 -1  1]\n",
      "1\n",
      "[ 1  1  1  1 -1  1]\n",
      "1\n",
      "[ 1 -1 -1  1 -1  1]\n",
      "Total Iterations: 8\n",
      "Final Weight: [ 1.  2. -2.]\n"
     ]
    }
   ],
   "source": [
    "import numpy as np\n",
    "#Data points input\n",
    "x = np.array([\n",
    "    [3, 1, 1],\n",
    "    [1, 0, 1],\n",
    "    [1.5, 0, 1],\n",
    "    [4, 1, 1],\n",
    "    [-2, 0, 1],\n",
    "    [6, 1, 1]\n",
    "])\n",
    "\n",
    "wt = np.array([0, 0, 1]) #initial weight\n",
    "expout = np.array([1, -1, -1, 1, -1, 1]) #expected output\n",
    "calout = np.empty_like(expout) #initialising calculated output\n",
    "a = 0 #misclassified index \n",
    "n = -1 # terminating variable of while loop\n",
    "m = 0 #No of iterations\n",
    "\n",
    "#While loop\n",
    "while n < 0:\n",
    "    calout = np.empty_like(expout)\n",
    "    for i in range(len(expout)):\n",
    "        c = np.dot(x[i], wt)\n",
    "        calout[i] = 1 if c > 0 else -1\n",
    "    print(calout)\n",
    "    if np.array_equal(calout, expout): #if equal n=1 and terminates\n",
    "        n = 1\n",
    "    else: \n",
    "        for i in range(6):\n",
    "            if expout[i] != calout[i]: \n",
    "                print(i)\n",
    "                a = i\n",
    "                break\n",
    "        wt = wt + (expout[a] * x[a]) #updating weight if not equal\n",
    "    m = m + 1\n",
    "\n",
    "print(\"Total No. of Iterations:\", m)\n",
    "print(\"Final Updated Weight:\", wt)\n"
   ]
  },
  {
   "cell_type": "code",
   "execution_count": 39,
   "id": "50c7e35f",
   "metadata": {},
   "outputs": [
    {
     "name": "stdout",
     "output_type": "stream",
     "text": [
      "enter weight 1:4\n",
      "enter weight 2:5\n",
      "[(0, 0), (0, 1), (1, 0), (1, 1)]\n",
      "Efficiency: 100.0 %\n"
     ]
    }
   ],
   "source": [
    "#NOR GATE \n",
    "import numpy as np\n",
    "w1=int(input('enter weight 1:'))\n",
    "w2=int(input('enter weight 2:'))\n",
    "w=[w1,w2]\n",
    "coord=[(x,y) for x in range(2) for y in range(2)]#list comprehension\n",
    "print(coord)\n",
    "norgate=[1,0,0,0]\n",
    "\n",
    "\n",
    "eff=0\n",
    "i=0\n",
    "for r in coordinates:\n",
    "    z=np.dot(r,w)\n",
    "    if z>0:\n",
    "        out=0\n",
    "    else:\n",
    "        out=1\n",
    "        \n",
    "    if out==norgate[i]:\n",
    "        eff=eff+1\n",
    "    i=i+1\n",
    "    \n",
    "per=(eff/4)*100\n",
    "print(\"Efficiency:\",per,\"%\")"
   ]
  },
  {
   "cell_type": "code",
   "execution_count": 5,
   "id": "6f2edef3",
   "metadata": {},
   "outputs": [
    {
     "name": "stdout",
     "output_type": "stream",
     "text": [
      "Final weights: [-0.525   0.9168]\n",
      "Final bias: -0.30000000000000004\n"
     ]
    }
   ],
   "source": [
    "import numpy as np\n",
    "\n",
    "X = np.array([[0.25, 0.353],\n",
    "              [0.25, 0.471],\n",
    "              [0.5, 0.353],\n",
    "              [0.5, 0.647],\n",
    "              [0.75, 0.705],\n",
    "              [0.75, 0.882],\n",
    "              [1, 0.705],\n",
    "              [1, 1]])\n",
    "\n",
    "\n",
    "y = np.array([0, 1, 0, 1, 0, 1, 0, 1])\n",
    "\n",
    "\n",
    "w = np.zeros(X.shape[1])\n",
    "b = 0\n",
    "\n",
    "learning_rate = 0.1\n",
    "\n",
    "epochs = 100  \n",
    "\n",
    "for _ in range(epochs):\n",
    "    for i in range(len(X)):\n",
    "        z = np.dot(X[i], w) + b\n",
    "        output = 1 if z >= 0 else 0\n",
    " \n",
    "        \n",
    "        w += learning_rate * (y[i] - output) * X[i]\n",
    "        b += learning_rate * (y[i] - output)\n",
    "\n",
    "\n",
    "print(\"Final weights:\", w)\n",
    "print(\"Final bias:\",b)"
   ]
  },
  {
   "cell_type": "code",
   "execution_count": null,
   "id": "195eb894",
   "metadata": {},
   "outputs": [],
   "source": []
  },
  {
   "cell_type": "code",
   "execution_count": null,
   "id": "9ed7a19d",
   "metadata": {},
   "outputs": [],
   "source": []
  },
  {
   "cell_type": "code",
   "execution_count": null,
   "id": "ccfbfd47",
   "metadata": {},
   "outputs": [],
   "source": []
  }
 ],
 "metadata": {
  "kernelspec": {
   "display_name": "Python 3 (ipykernel)",
   "language": "python",
   "name": "python3"
  },
  "language_info": {
   "codemirror_mode": {
    "name": "ipython",
    "version": 3
   },
   "file_extension": ".py",
   "mimetype": "text/x-python",
   "name": "python",
   "nbconvert_exporter": "python",
   "pygments_lexer": "ipython3",
   "version": "3.9.12"
  }
 },
 "nbformat": 4,
 "nbformat_minor": 5
}
